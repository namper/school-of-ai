{
 "cells": [
  {
   "cell_type": "code",
   "execution_count": null,
   "metadata": {},
   "outputs": [],
   "source": [
    "%load_ext autoreload\n",
    "%autoreload 2\n",
    "\n",
    "%matplotlib inline"
   ]
  },
  {
   "cell_type": "markdown",
   "metadata": {},
   "source": [
    "## Basic setup"
   ]
  },
  {
   "cell_type": "markdown",
   "metadata": {},
   "source": [
    "Create anaconda environment\n",
    "<br>\n",
    "```bash\n",
    "conda create -n ml python=3.7.4 jupyter\n",
    "```\n",
    "Install fastai library\n",
    "<br>\n",
    "```bash\n",
    "conda install -c pytorch -c fastai fastai\n",
    "```"
   ]
  },
  {
   "cell_type": "code",
   "execution_count": null,
   "metadata": {},
   "outputs": [],
   "source": [
    "!pip install https://github.com/ipython-contrib/jupyter_contrib_nbextensions/tarball/master\n",
    "!pip install jupyter_nbextensions_configurator\n",
    "!jupyter contrib nbextension install --user\n",
    "!jupyter nbextensions_configurator enable --user"
   ]
  },
  {
   "cell_type": "markdown",
   "metadata": {},
   "source": [
    "# Metric spaces"
   ]
  },
  {
   "cell_type": "markdown",
   "metadata": {},
   "source": [
    "#### Prove that:\n",
    "For every metric space (X, d):\n",
    "- For eny $\\mathcal{U} = \\{U | U$ is open in $(X, d)\\}$ holds $\\bigcup_{U \\in \\mathcal{U}} U$ is open in $(X, d)$\n",
    "\n",
    " $\\forall x \\in \\bigcup_{U \\in \\mathcal{U}} U \\Longrightarrow \\exists U_{n_0} : x \\in U_{n_0} \\land x \\not \\in U_{k} : k < n_0$, $U_{n_0}$ is open hence $ \\exists r > 0 : B(x, r) \\subset U_{n_0} \\Rightarrow B(x, r) \\subset \\mathcal{U}$\n",
    "\n",
    "\n",
    "- For eny two $U, V \\subset X$ open in $(X, d)$ holds: $U \\cap V$ is open in $(X, d)$\n",
    "\n",
    "\n",
    " $ \\exists r_1 , r_2:  B(x, r_1) \\subset U,  B(x, r_2) \\subset V $ <br> \n",
    "    $r := \\min \\{r_1, r_2 \\} \\Longrightarrow B(x, r) \\subset U \\land B(x, r) \\subset V \\rightarrow  B(x, r) \\subset U \\cap V $ hence $  U \\cap V $ is open\n",
    "\n",
    "\n",
    "- $X$ is open in $(X, d)$\n",
    "\n",
    "by definition every open ball in $(X, d)$ is subset of $X$, hence $X$ is open \n",
    "\n",
    "- $\\emptyset$ is open in $(X, d)$\n",
    "\n",
    "By definition, an open set $S \\subset X $ is one where every point inside it is an element of an open ball contained entirely within that set.\n",
    "\n",
    "That is, there are no points in $S$ which have an open ball some of whose elements are not in $S$.\n",
    "\n",
    "As there are no elements in $\\varnothing$, the result follows vacuously."
   ]
  },
  {
   "cell_type": "markdown",
   "metadata": {},
   "source": [
    "#### Prove that:\n",
    "- For any finity set $(U)_{i=1}^{n}$ of open sets in $(X, d)$, $\\bigcap_{i=1}^{n}U$ is open in $(X, d)$\n",
    "\n",
    "$ \\exists r_1 , r_2, \\dots r_n :  B(x, r_1) \\subset U_1,  B(x, r_2) \\subset U_2 \\dots $ <br> \n",
    "    $r := \\min \\{r_1, r_2, r_3, \\dots , r_n \\} \\Longrightarrow B(x, r) \\subset (U)_{i=1}^{n} \\rightarrow \\bigcap_{i=1}^{n}U$ is open in $(X, d)$"
   ]
  },
  {
   "cell_type": "markdown",
   "metadata": {},
   "source": [
    "#### Prove that for set $U \\subset X$ is open if and only if for each point $x \\in U$ there exists the open neighbourhood $V$ of $x$ such that $V \\subset U$"
   ]
  },
  {
   "cell_type": "markdown",
   "metadata": {},
   "source": [
    "#### Prove that, closed ball is closed subset in $(X, d)$\n"
   ]
  },
  {
   "cell_type": "markdown",
   "metadata": {},
   "source": [
    "#### Prove that\n",
    "For every metric space (X, d):\n",
    "- For eny $\\mathcal{F} = \\{F | F$ is closed in $(X, d)\\}$ holds $\\bigcap_{F \\in \\mathcal{F}} F$ is closed in $(X, d)$\n",
    "- For eny two $F_1, F_2 \\subset X$ closed in $(X, d)$ holds: $F_1 \\cup F_2$ is closed in $(X, d)$\n",
    "- $X$ is closed in $(X, d)$\n",
    "- $\\emptyset$ is closed in $(X, d)$"
   ]
  },
  {
   "cell_type": "markdown",
   "metadata": {},
   "source": [
    "#### Prove that:\n",
    "- For eny finity set $(F)_{i=1}^{n}$ of closed sets in $(X, d)$, $\\bigcup_{i=1}^{n}F$ is closed in $(X, d)$"
   ]
  },
  {
   "cell_type": "markdown",
   "metadata": {},
   "source": [
    "#### Prove that, if $F \\subset X$ is closed then $X - F$ is open in $(X, d)$ "
   ]
  },
  {
   "cell_type": "markdown",
   "metadata": {},
   "source": [
    "# Metrics in Euclidean spaces"
   ]
  },
  {
   "cell_type": "markdown",
   "metadata": {},
   "source": [
    "#### This Follows From Definition:\n",
    "- for every $u, v \\in \\mathbb{R}^{n}$: $d(u, v) \\geq 0$\n",
    "- for every $v \\in \\mathbb{R}^{n}$: $d(v, v) = 0$\n",
    "- for every $u, v \\in \\mathbb{R}^{n}$: $d(u, v) = d(v, u)$ (symmetry)\n",
    "- for every $u, v, w \\in \\mathbb{R}^{n}$: $d(u, w) \\leq d(v, u) + d(v, w)$ (triangle inequality)"
   ]
  },
  {
   "cell_type": "markdown",
   "metadata": {},
   "source": [
    "#### Prove the same properties hold for $d(u, v) = ||u-v||_1$ ($||u-v||_1 = \\sum_{i = 1}^{n}|u_i - v_i|$)\n",
    "\n",
    "   1. $d(u, v) =||u-v|| = \\sum_{i = 1}^{n}|u_i - v_i| \\geq \\sum_{i = 1}^{n} 0 \\geq 0 $\n",
    "   2. $d(u, u) = ||u-u|| = || 0 || = 0 $\n",
    "   3. $d(u, v) = \\sum_{i = 1}^{n}|u_i - v_i| = \\sum_{i = 1}^{n}|v_i - u_i| = d(v, u) $\n",
    "   4. $d(u, w) = \\sum_{i = 1}^{n}|u_i - w_i| = \\sum_{i = 1}^{n}|u_i - v_1 + v_i - w_i| \\leq \\sum_{i = 1}^{n}|u_i - v_i| + \\sum_{i = 1}^{n}|v_i - w_i| = d(u,v) + d(v, w) $"
   ]
  },
  {
   "cell_type": "markdown",
   "metadata": {},
   "source": [
    "## Sequences and limits"
   ]
  },
  {
   "cell_type": "markdown",
   "metadata": {},
   "source": [
    "#### Prove that $x = \\lim_{n\\to\\infty}{x_n}$ in $(X, d)$ if and only if (iff) for every $r \\in \\mathbb{R}$ there exists $n_0 \\in \\mathbb{N}$ such that: $x_i \\in B(x, r)$ for every $i \\gt n_0$"
   ]
  },
  {
   "cell_type": "markdown",
   "metadata": {},
   "source": [
    "#### Prove that if $x = \\lim_{n\\to\\infty}{x_n}$ and $x \\notin \\{-\\infty, \\infty\\}$ then $(x_i)_{i=1}^{\\infty} = (x_1, x_2, \\dots, x_n)$ is a Cauchy sequence\n",
    "<br>\n",
    "For closed set $F \\subset \\mathbb{R}^n$ and convergent sequence $(x_i)_{i=1}^{\\infty} = (x_1, x_2, \\dots, x_n)$ such that there exists $n_0 \\in \\mathbb{N}$ such that $x_i \\in F$ for each $i \\gt n_0$ then: $\\lim_{n\\to\\infty}{x_n} \\in F$"
   ]
  },
  {
   "cell_type": "markdown",
   "metadata": {},
   "source": [
    "#### Prove that if $F$ is open from previous example, statement does not hold. "
   ]
  },
  {
   "cell_type": "markdown",
   "metadata": {},
   "source": [
    "#### Prove that inherited metric is a metric"
   ]
  },
  {
   "cell_type": "markdown",
   "metadata": {},
   "source": [
    "## Limits of functions"
   ]
  },
  {
   "cell_type": "markdown",
   "metadata": {},
   "source": [
    "Let $f:S \\to Y$ is function between subset $S \\subset X$ of a metric space $(X, d_x)$ and metric space $(Y, d_Y)$\n",
    "- We say that the limit of function $f:(S, d_x) \\to (Y, d_Y)$ between metric spaces in some limit point $c \\in X$ of the subset $S$ is $y \\in Y $if for each open neighborhood of $y \\in V \\subset Y$ there exists the open seighborhood of $c \\in U \\subset X$ such that $f(U \\cap S) \\subset V$\n",
    "<br>\n",
    "This definition is equiualent of definition:\n",
    "<br>\n",
    "- The limit of function $f:(S, d_X) \\to (Y, d_Y)$ between metric spaces in limit point $c \\in X$ of the subset $S$ is $y \\in Y $ if for each open ball $B(x, r) \\subset Y$ there exists the ball $B(c, l) \\subset X$ such that $f(B(c, l) \\cap S) \\subset B(y, r)$\n",
    "<br>\n",
    "or\n",
    "<br>\n",
    "- The limit of function $f:(S, d_X) \\to (Y, d_Y)$ between metric spaces in limit point $c \\in X$ of subset $S$ is $y \\in Y $ if for any $r \\in \\mathbb{R}$ there exists $l \\in \\mathbb{R}$ such that for every $x \\in S$ with $d_X(x, c) < l$ implies that $d_Y(f(x), y) < r$"
   ]
  },
  {
   "cell_type": "markdown",
   "metadata": {},
   "source": [
    "#### Prove that this three definitions are equiualent for eny function between eny two metric spaces"
   ]
  },
  {
   "cell_type": "markdown",
   "metadata": {},
   "source": [
    "## Continuous functions "
   ]
  },
  {
   "cell_type": "markdown",
   "metadata": {},
   "source": [
    "#### Prove that function is continuous in $c$ if for eny sequence $(x_n)_{n=1}^{\\infty} \\subset X$ such that $\\lim_{n \\to \\infty}x_n = c$ we have $\\lim_{n \\to \\infty}f(x_n) = f(c)$"
   ]
  },
  {
   "cell_type": "markdown",
   "metadata": {},
   "source": [
    "#### Prove that function is continuous if for every open set $V \\subset Y$ the $f^{-1}(V)$ is open in $X$"
   ]
  },
  {
   "cell_type": "markdown",
   "metadata": {},
   "source": [
    "#### Prove that function is continuous if for every closed set $F \\subset Y$ the $f^{-1}(F)$ is open in $X$"
   ]
  },
  {
   "cell_type": "markdown",
   "metadata": {},
   "source": [
    "#### Prove that any composition of continous functions is continous\n",
    "\n",
    "Since $f$ is continuous at $g(a)$, our definition of continuity tells us that for all $\\varepsilon > 0$ there is some $\\delta_1$ such that $$|g(x) - g(a)| < \\delta_1\\implies|f(g(x))-f(g(a))|<\\varepsilon.$$\n",
    "Also, since $g$ is continuous at $a$, there is some $\\delta$ such that $$|x-a|<\\delta \\implies |g(x)-g(a)|<\\delta_1.$$\n",
    "I've taken $\\varepsilon =\\delta_1$ here.  Now this tells us that for all $\\varepsilon > 0$ there is some $\\delta > 0$ (and a $\\delta_1 > 0$) such that $$|x-a| < \\delta\\implies|g(x)-g(a)|<\\delta_1\\implies|f(g(x)) - f(g(a))|<\\varepsilon,$$\n",
    "which is what we wanted to show."
   ]
  },
  {
   "cell_type": "code",
   "execution_count": null,
   "metadata": {},
   "outputs": [],
   "source": []
  }
 ],
 "metadata": {
  "kernelspec": {
   "display_name": "Python 3",
   "language": "python",
   "name": "python3"
  },
  "language_info": {
   "codemirror_mode": {
    "name": "ipython",
    "version": 3
   },
   "file_extension": ".py",
   "mimetype": "text/x-python",
   "name": "python",
   "nbconvert_exporter": "python",
   "pygments_lexer": "ipython3",
   "version": "3.7.1"
  }
 },
 "nbformat": 4,
 "nbformat_minor": 4
}
