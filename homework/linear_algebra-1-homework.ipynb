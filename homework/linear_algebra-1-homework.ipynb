{
 "cells": [
  {
   "cell_type": "code",
   "execution_count": null,
   "metadata": {},
   "outputs": [],
   "source": [
    "%load_ext autoreload\n",
    "%autoreload 2\n",
    "\n",
    "%matplotlib inline"
   ]
  },
  {
   "cell_type": "markdown",
   "metadata": {},
   "source": [
    "## Basic setup"
   ]
  },
  {
   "cell_type": "markdown",
   "metadata": {},
   "source": [
    "Create anaconda environment\n",
    "<br>\n",
    "```bash\n",
    "conda create -n ml python=3.7.4 jupyter\n",
    "```\n",
    "Install fastai library\n",
    "<br>\n",
    "```bash\n",
    "conda install -c pytorch -c fastai fastai\n",
    "```"
   ]
  },
  {
   "cell_type": "markdown",
   "metadata": {},
   "source": [
    "# Set theory basics"
   ]
  },
  {
   "cell_type": "markdown",
   "metadata": {},
   "source": [
    "#### Prove that:\n",
    "<br>\n",
    "$A \\subseteq A$\n",
    "\n",
    "Suppose $ A \\not\\subseteq A $ Then\n",
    "$ \\exists x : x \\notin A \\land x \\in A $ \n",
    "Hence the contradiction"
   ]
  },
  {
   "cell_type": "markdown",
   "metadata": {},
   "source": [
    "#### Prove that:\n",
    "<br>\n",
    "If $A \\subseteq B$ and $B \\subseteq A$ $\\to$ $A = B$\n",
    "\n",
    "if we suppose that $ \\exists x: x \\not \\in A $ and $ x \\in B $ this would contradict $B \\subseteq A$ <br>\n",
    "corollary if there exists $x: x \\not \\in B $ and $ x \\in A $ this would contradict $A \\subseteq B$ <br>\n",
    "hence $ \\forall x \\left( x \\in A \\rightarrow x \\in B \\right ) \\land \\forall x \\left( x \\in B \\rightarrow x \\in A \\right) $ implies $ A = B $ \n"
   ]
  },
  {
   "cell_type": "markdown",
   "metadata": {},
   "source": [
    "#### Prove that:\n",
    "<br>\n",
    "if $B \\subset A$ then $A \\cap B = B$\n",
    "\n",
    "By definitions:\n",
    "- $x \\in B \\Longrightarrow x \\in A $  <br>\n",
    "- $x \\in A \\cap B \\Longrightarrow x \\in A $ and $ x \\in B $ <br>\n",
    "if there exist $x : x \\in A \\cap B $ but $ x \\not \\in B \\Longrightarrow x \\not \\in A \\land x \\not \\in B \\Longrightarrow x \\not \\in A \\cap B$ <br>\n",
    "hence the contradiction"
   ]
  },
  {
   "cell_type": "markdown",
   "metadata": {},
   "source": [
    "#### Prove that:\n",
    "<br>\n",
    "$A \\cap B = B \\cap A$\n",
    "\n",
    "by characheristic function we have that\n",
    "- $ \\chi_{A \\cap B} = \\chi_{A} \\cdot \\chi_{B} $ <br>\n",
    "- $ \\chi_{B \\cap A} = \\chi_{B} \\cdot \\chi_{A} $ <br>\n",
    "and because multiplication is commutative hence \n",
    "$ \\chi_{A \\cap B} = \\chi_{B \\cap A} \\Longrightarrow A \\cap B = B \\cap A $"
   ]
  },
  {
   "cell_type": "markdown",
   "metadata": {},
   "source": [
    "#### Prove that:\n",
    "<br>\n",
    "if $B \\subset A$ then $A \\cup B = A$\n",
    "\n",
    "$ \\forall x \\in A \\cup B \\rightarrow x \\in A \\land x \\in B $  and because $ B \\subset A $ we have \n",
    "$ x \\in A \\land x \\in B \\leftrightarrow x \\in A $\n",
    "\n",
    "$ \\forall x \\in A \\rightarrow x \\in A \\leftrightarrow x \\in A \\land x \\in B $"
   ]
  },
  {
   "cell_type": "markdown",
   "metadata": {},
   "source": [
    "#### Prove that:\n",
    "<br>\n",
    "$A \\cup B = B \\cup A$\n",
    "\n",
    "by characheristic function we have that\n",
    "- $ \\chi_{A \\cup B} = \\chi_A + \\chi_B -\\chi_{A} \\cdot \\chi_{B} $ <br>\n",
    "- $ \\chi_{B \\cup A} = \\chi_B + \\chi_A -\\chi_{B} \\cdot \\chi_{A} $ <br>\n",
    "and because multiplication and addition are commutative hence \n",
    "$ \\chi_{A \\cup B} = \\chi_{B \\cup A} \\Longrightarrow A \\cup B = B \\cup A $"
   ]
  },
  {
   "cell_type": "markdown",
   "metadata": {},
   "source": [
    "#### Prove that:\n",
    "- for every injection $m:A \\to B$ and pair of functions $f, g :C \\to A$: if $m \\circ f = m \\circ g$ then $f = g$ and vice-versa\n",
    "\n",
    "$$ \\forall x \\in C  , (\\exists!  y_f )(\\exists ! y_g): (y_f \\in A)(y_g \\in A) $$ \n",
    "$$ (\\forall y_f\\forall y_g): (y_f \\in A)(y_g \\in A) , (\\exists !z_f)(\\exists! z_g), (z_f \\in B, z_g \\in B) \\Rightarrow$$ <br>\n",
    "$$\\Rightarrow \\forall x \\in C, \\exists ! z \\in B $$\n",
    "                therefore by uniqueness we get that\n",
    "$$ z_f = z_g  \\Longleftrightarrow m \\circ f = m \\circ g \\Longleftrightarrow f = g $$ \n",
    "\n",
    "\n",
    "\n",
    "\n",
    "\n",
    "\n",
    "- for every surjection $e:A \\to B$ and every pair of functions $f, g :B \\to C$: if $f \\circ e = g \\circ e$ then $f = g$ and vice-versa"
   ]
  },
  {
   "cell_type": "markdown",
   "metadata": {},
   "source": [
    "#### Prove that \n",
    "- composition of injections is injection itself\n",
    "- composition of surjections is surjection itself\n",
    "- composition of bijections is bijection itself\n",
    "<br>\n",
    "or give a counterexamples"
   ]
  },
  {
   "cell_type": "markdown",
   "metadata": {},
   "source": [
    "#### Prove that for each set $A$:\n",
    "- $A \\cong A$\n",
    "- if $B \\cong A$ then $B \\cong A$ for every pair of sets $A$ and $B$\n",
    "- if $A \\cong B$ and $B \\cong C$ then $A \\cong C$ for every triplet $A$, $B$ and $C$"
   ]
  },
  {
   "cell_type": "markdown",
   "metadata": {},
   "source": [
    "#### Prove that:\n",
    "<br>\n",
    "there exists a bijection between set of natural and even numbers\n",
    "\n",
    "$$ f : \\mathbb{N} \\rightarrow \\mathbb{2Z} $$\n",
    "\n",
    "\n",
    "$$ f(n) = \\begin{cases} n, & \\mbox{if } n\\mbox{ is even} \\\\ 1-n, & \\mbox{if } n\\mbox{ is odd}\\end{cases} $$ "
   ]
  },
  {
   "cell_type": "markdown",
   "metadata": {},
   "source": [
    "#### Prove that:\n",
    "<br>\n",
    "if we have a bijection between two finite sets than they have an equal number of elements\n",
    "\n",
    "$$ X \\cong Y \\implies X = \\{x_1, x_2, \\dots, x_n \\} ,   Y = \\{ y_1, y_2, \\dots, y_m \\} $$\n",
    "if we suppose that $ m < n \\implies \\exists x_i \\rightarrow y_k, y_m,  k \\neq m \\implies $ Contradiction\n",
    "if we suppose that $ n < m \\implies \\exists y_i \\rightarrow x_k, x_m,  k \\neq m \\implies $ Contradiction\n",
    "thus $ m = n \\implies |X| = |Y| $"
   ]
  },
  {
   "cell_type": "markdown",
   "metadata": {},
   "source": [
    "#### Prove that:\n",
    "<br>\n",
    "$A \\times B \\cong B \\times A$\n",
    "\n",
    "\n",
    "$(a, b) \\in A \\times B \\to (c, d) \\in B \\times A$ <br>\n",
    "is bijective with following map: <br>\n",
    "- $a \\to d$  <br>\n",
    "- $b \\to c$  <br>"
   ]
  },
  {
   "cell_type": "markdown",
   "metadata": {},
   "source": [
    "$\\cap_{i\\in I}A_i$ and $\\cup_{i\\in I}A_i$"
   ]
  },
  {
   "cell_type": "code",
   "execution_count": null,
   "metadata": {},
   "outputs": [],
   "source": [
    "from functools import reduce\n",
    "union = lambda s: reduce(lambda a, b: a | b, s)\n",
    "intersection = lambda s: reduce(lambda a, b: a & b, s)  \n",
    "union([{1, 2, 3, 4}, {2, 3}]), intersection([{1, 2, 3, 4}, {2, 3}])"
   ]
  },
  {
   "cell_type": "markdown",
   "metadata": {},
   "source": [
    "We can also define cartesian product of any \"number\" of sets $\\prod_{i \\in I}{A_i}$"
   ]
  },
  {
   "cell_type": "code",
   "execution_count": null,
   "metadata": {},
   "outputs": [],
   "source": [
    "from itertools import chain, product\n",
    "from functools import reduce\n",
    "A = [set(range(1, 10)), set(range(1, 10)), set(range(1, 10))]\n",
    "generalized_cartesian = lambda s: set(product(*s))\n",
    "\n",
    "generalized_cartesian(A)"
   ]
  },
  {
   "cell_type": "markdown",
   "metadata": {},
   "source": [
    "#### Prove that:\n",
    "<br>\n",
    "$$A \\cap (B \\cup C)=(A \\cap B) \\cup (A\\cap C)$$\n",
    "$$A \\cup (B \\cap C)=(A \\cup B) \\cap (A\\cup C)$$\n",
    "\n",
    "Let's first introduce charachteristic function on any set $A$ <br>\n",
    "$\\chi_A(x) = \\begin{cases} 1, & \\mbox{if } x\\in A \\\\ 0, & otherwise \\end{cases}$ <br>\n",
    "we state state the properties of $\\chi_A(x)$ <br>\n",
    "- $\\chi_{A\\cup B}(x) = \\chi_A(x) + \\chi_B(x) - \\chi_A(x) \\cdot \\chi_B(x) $\n",
    "- $\\chi_{A\\cap B}(x) = \\chi_A(x) \\cdot \\chi_B(x) $\n",
    "\n",
    "then <br>\n",
    "$\\chi_{A \\cap (B \\cup C)}(x) = \\chi_A(x) \\cdot \\chi_{B \\cup C}(x) = \\chi_A(x) \\cdot \\big\\{ \\chi_B(x) + \\chi_C(x) - \\chi_B(x) \\cdot \\chi_B(x) \\big \\} = \\\\ = \\chi_A(x) \\cdot \\chi_B(x) + \\chi_A(x) \\cdot \\chi_C(x) - \\chi_A(x) \\cdot \\chi_B(x) \\cdot \\chi_C(x) = \\chi_{A \\cap B}(x) + \\chi_{A \\cap C}(x) - \\chi_{A \\cap B \\cap C} = \\chi_{(A \\cap B) \\cup (A \\cap B)}(x)$ <br> \n",
    "\n",
    "hence $ \\forall x: \\chi_{A \\cap (B \\cup C)}(x) = \\chi_{(A \\cap B) \\cup (A \\cap B)}(x)$ <br>\n",
    "$ A \\cap (B \\cup C) = (A \\cap B) \\cup (A \\cap B) $\n",
    "\n",
    "Same argument for 2nd"
   ]
  },
  {
   "cell_type": "markdown",
   "metadata": {},
   "source": [
    "# Linear Algebra"
   ]
  },
  {
   "cell_type": "markdown",
   "metadata": {},
   "source": [
    "#### Prove that:\n",
    "<br>\n",
    "$(AB)^{T} = B^{T}A^{T}$ for each pair of matrices $A, B \\in \\mathbb{R}^{n \\times m}$\n",
    "\n",
    "$$ C = (AB)^T $$\n",
    "$$ c_{ij} = \\sum_{k=1}^n a_{jk}b_{ki} $$\n",
    "\n",
    "$$ D = B^T A^T $$\n",
    "$$ d_{ij} = \\sum_{k=1}^n b_{ki}a_{jk} = \\sum_{k=1}^n a_{jk}b_{ki} = c_{ij} $$ "
   ]
  },
  {
   "cell_type": "markdown",
   "metadata": {},
   "source": [
    "## Functions on tensors"
   ]
  },
  {
   "cell_type": "markdown",
   "metadata": {},
   "source": [
    "#### Write combination for $XOR$ calculation"
   ]
  },
  {
   "cell_type": "code",
   "execution_count": null,
   "metadata": {},
   "outputs": [],
   "source": [
    "import numpy as np\n",
    "import math\n",
    "log_vals = [[0, 0], [0, 1], [1, 0], [1, 1]]\n",
    "w = np.array([20, 20])\n",
    "b_and = np.array([-30])\n",
    "b_or = np.array([-10])\n",
    "sig = np.vectorize(lambda x: np.reciprocal(1+math.exp(-x)))\n",
    "nn = lambda _w, _x, _b: sig(_w.T @ _x + _b)\n",
    "\n",
    "for twin in log_vals:\n",
    "    print(twin, np.around(nn(w, twin, b_or)-nn(w, twin, b_and), decimals=1))"
   ]
  },
  {
   "cell_type": "code",
   "execution_count": null,
   "metadata": {},
   "outputs": [],
   "source": []
  }
 ],
 "metadata": {
  "kernelspec": {
   "display_name": "Python 3",
   "language": "python",
   "name": "python3"
  },
  "language_info": {
   "codemirror_mode": {
    "name": "ipython",
    "version": 3
   },
   "file_extension": ".py",
   "mimetype": "text/x-python",
   "name": "python",
   "nbconvert_exporter": "python",
   "pygments_lexer": "ipython3",
   "version": "3.7.1"
  }
 },
 "nbformat": 4,
 "nbformat_minor": 4
}
