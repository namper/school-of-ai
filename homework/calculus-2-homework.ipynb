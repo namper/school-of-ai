{
 "cells": [
  {
   "cell_type": "code",
   "execution_count": null,
   "metadata": {},
   "outputs": [],
   "source": [
    "%load_ext autoreload\n",
    "%autoreload 2\n",
    "\n",
    "%matplotlib inline"
   ]
  },
  {
   "cell_type": "markdown",
   "metadata": {},
   "source": [
    "## Basic setup"
   ]
  },
  {
   "cell_type": "markdown",
   "metadata": {},
   "source": [
    "Create anaconda environment\n",
    "<br>\n",
    "```bash\n",
    "conda create -n ml python=3.7.4 jupyter\n",
    "```\n",
    "Install fastai library\n",
    "<br>\n",
    "```bash\n",
    "conda install -c pytorch -c fastai fastai\n",
    "```"
   ]
  },
  {
   "cell_type": "markdown",
   "metadata": {},
   "source": [
    "# Derivatives"
   ]
  },
  {
   "cell_type": "markdown",
   "metadata": {},
   "source": [
    "#### Example:\n",
    "$$f(x,y) = \\begin{cases}x & \\text{if }y \\ne x^2 \\\\ 0 & \\text{if }y = x^2\\end{cases}$$"
   ]
  },
  {
   "cell_type": "markdown",
   "metadata": {},
   "source": [
    "#### Example:\n",
    "$$f(x,y) = \\begin{cases} \\dfrac{y^3}{x^2+y^2} & \\text{if }(x,y) \\ne (0,0) \\\\ 0 & \\text{if }(x,y) = (0,0)\\end{cases}$$\n",
    "\n",
    "$$\\left.\\frac{\\partial f}{\\partial x}\\right|_{(0,0)} = \\lim_{h \\to 0} \\frac{f(h,0) - f(0,0)}{h} = \\lim_{h \\to 0} \\frac{f(h,0)}{h} = 0 $$\n",
    "$$\\left.\\frac{\\partial f}{\\partial y}\\right|_{(0,0)} = \\lim_{h \\to 0} \\frac{f(0,h) - f(0,0)}{h} = \\lim_{h \\to 0} \\frac{f(0,h)}{h} = \\lim_{h \\to 0} h = 0 $$\n",
    "\n",
    "\n",
    "\n",
    "\n",
    "hence partials derivatives exist, if we differentiate at $(0, 0)$ then we would have that \n",
    "$$ \\lim_{(x,y) \\to (0,0)} \\frac{f(x,y) - f(0,0) - \\left.\\ \\frac{\\partial f}{\\partial x} \\right|_{(0,0)}x - \\left.\\ \\frac{\\partial f}{\\partial y} \\right|_{(0,0)}y}{\\sqrt{x^2 + y^2}} = \\lim_{(x,y) \\to (0,0)} \\dfrac{f(x, y)}{\\sqrt{x^2 + y^2}} $$\n",
    "\n",
    "Moving To Polar Cordinates $ x = r \\cos \\theta , y = r \\sin \\theta $ we will have \n",
    "\n",
    "$$  \\lim_{r \\to 0} \\dfrac{r^3 \\sin^3 \\theta}{r^2 \\cdot r} = \\lim_{r \\to 0}  \\sin^3 \\theta$$\n",
    "which implies that derivative does not exist at point $(0, 0)$, because limit doesn't exist ( is dependent on $\\theta$ ) \n"
   ]
  },
  {
   "cell_type": "code",
   "execution_count": null,
   "metadata": {},
   "outputs": [],
   "source": []
  }
 ],
 "metadata": {
  "kernelspec": {
   "display_name": "Python 3",
   "language": "python",
   "name": "python3"
  },
  "language_info": {
   "codemirror_mode": {
    "name": "ipython",
    "version": 3
   },
   "file_extension": ".py",
   "mimetype": "text/x-python",
   "name": "python",
   "nbconvert_exporter": "python",
   "pygments_lexer": "ipython3",
   "version": "3.7.1"
  }
 },
 "nbformat": 4,
 "nbformat_minor": 4
}
